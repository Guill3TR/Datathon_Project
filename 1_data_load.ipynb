{
  "cells": [
    {
      "cell_type": "markdown",
      "metadata": {},
      "source": [
        "## **Database Connection and Data Loading**"
      ]
    },
    {
      "cell_type": "code",
      "execution_count": 18,
      "metadata": {},
      "outputs": [],
      "source": [
        "import xlrd\n",
        "import mysql.connector\n",
        "import pandas as pd\n",
        "\n",
        "conexion = mysql.connector.connect(\n",
        "    host=\" *** \",\n",
        "    user=\" *** \",\n",
        "    password=\" *** \",\n",
        "    database= \" *** \"\n",
        ")"
      ]
    },
    {
      "cell_type": "markdown",
      "metadata": {},
      "source": [
        "### 4 variables are defined, which are the name of the database, as well as the name of the 3 tables"
      ]
    },
    {
      "cell_type": "code",
      "execution_count": 26,
      "metadata": {},
      "outputs": [],
      "source": [
        "base_datos = \"sandbox\"\n",
        "tabla_ventas = \"ventas\"\n",
        "tabla_calendario = \"calendario\"\n",
        "tabla_pedidos = \"pedidos\"\n",
        "\n",
        "cursor = conexion.cursor()\n",
        "cursor.execute(f\"CREATE DATABASE IF NOT EXISTS {base_datos}\")\n",
        "\n",
        "cursor.execute(f\"USE {base_datos}\")"
      ]
    },
    {
      "cell_type": "markdown",
      "metadata": {},
      "source": [
        "### The 3 tables are created, specifying the columns of each with their data types and constraints"
      ]
    },
    {
      "cell_type": "code",
      "execution_count": 27,
      "metadata": {
        "id": "YQYz5MlhGV-O"
      },
      "outputs": [],
      "source": [
        "cursor.execute(f\"DROP TABLE IF EXISTS {tabla_ventas}\")\n",
        "cursor.execute(f\"CREATE TABLE IF NOT EXISTS {tabla_ventas} (\"\n",
        "               \"FAMILIA VARCHAR(255),\"\n",
        "               \"Tipo VARCHAR(255),\"\n",
        "               \"FechaVenta DATE,\"\n",
        "               \"HoraVenta INT,\"\n",
        "               \"Articulo VARCHAR(255),\"\n",
        "               \"Cantidad FLOAT,\"\n",
        "               \"Precio FLOAT,\"\n",
        "               \"Importe FLOAT\"\n",
        "               \")\")"
      ]
    },
    {
      "cell_type": "code",
      "execution_count": 28,
      "metadata": {
        "id": "W1fcqqOiZshL"
      },
      "outputs": [],
      "source": [
        "cursor.execute(f\"DROP TABLE IF EXISTS {tabla_calendario}\")\n",
        "cursor.execute(f\"CREATE TABLE IF NOT EXISTS {tabla_calendario} (\"\n",
        "               \"Fecha DATE,\"\n",
        "               \"Festivo VARCHAR(255)\"\n",
        "               \")\")"
      ]
    },
    {
      "cell_type": "code",
      "execution_count": 29,
      "metadata": {
        "id": "bgq4Hv03a8Fp"
      },
      "outputs": [],
      "source": [
        "cursor.execute(f\"DROP TABLE IF EXISTS {tabla_pedidos}\")\n",
        "cursor.execute(f\"CREATE TABLE IF NOT EXISTS {tabla_pedidos} (\"\n",
        "               \"Tipo VARCHAR(255),\"\n",
        "               \"Fecha DATE,\"\n",
        "               \"Articulo VARCHAR(255),\"\n",
        "               \"Cantidad FLOAT,\"\n",
        "               \"Precio FLOAT,\"\n",
        "               \"Importe FLOAT\"\n",
        "               \")\")"
      ]
    },
    {
      "cell_type": "markdown",
      "metadata": {},
      "source": [
        "### The data file is loaded and read"
      ]
    },
    {
      "cell_type": "code",
      "execution_count": null,
      "metadata": {
        "id": "RkH_2hMRH1rE"
      },
      "outputs": [],
      "source": [
        "archivo_ventas = \"data/ArticulosPanaderia.xlsx\"\n",
        "\n",
        "df = pd.read_excel(archivo_ventas)\n",
        "\n",
        "registros = []\n",
        "for _, row in df.iterrows():\n",
        "    familia = row['FAMILIA']\n",
        "    tipo = row['Tipo']\n",
        "    fecha_venta = row['FechaVenta'].strftime('%Y-%m-%d')\n",
        "    hora_venta = row['HoraVenta']\n",
        "    articulo = row['Articulo']\n",
        "    cantidad = row['Cantidad']\n",
        "    precio = row['Precio']\n",
        "    importe = row['Importe']\n",
        "    registros.append((familia, tipo, fecha_venta, hora_venta, articulo, cantidad, precio, importe))\n",
        "\n",
        "consulta = f\"INSERT INTO {tabla_ventas} (FAMILIA, Tipo, FechaVenta, HoraVenta, Articulo, Cantidad, Precio, Importe) \" \\\n",
        "           \"VALUES (%s, %s, %s, %s, %s, %s, %s, %s)\"\n",
        "\n",
        "tamano_lote = 1000\n",
        "for i in range(0, len(registros), tamano_lote):\n",
        "    lote_registros = registros[i:i + tamano_lote]\n",
        "    cursor = conexion.cursor()\n",
        "    cursor.executemany(consulta, lote_registros)\n",
        "    conexion.commit()"
      ]
    },
    {
      "cell_type": "code",
      "execution_count": null,
      "metadata": {
        "id": "dzdRc7tYL__c"
      },
      "outputs": [],
      "source": [
        "archivo_calendario = \"data/Calendario.xlsx\"\n",
        "\n",
        "df = pd.read_excel(archivo_calendario)\n",
        "\n",
        "registros = []\n",
        "for _, row in df.iterrows():\n",
        "    fecha = row['Fecha'].strftime('%Y-%m-%d')\n",
        "    festivo = row['Festivo']\n",
        "    registros.append((fecha,festivo))\n",
        "\n",
        "consulta = f\"INSERT INTO {tabla_calendario} (Fecha, Festivo) \" \\\n",
        "           \"VALUES (%s, %s)\"\n",
        "\n",
        "tamano_lote = 1000\n",
        "for i in range(0, len(registros), tamano_lote):\n",
        "    lote_registros = registros[i:i + tamano_lote]\n",
        "    cursor = conexion.cursor()\n",
        "    cursor.executemany(consulta, lote_registros)\n",
        "    conexion.commit()"
      ]
    },
    {
      "cell_type": "code",
      "execution_count": null,
      "metadata": {
        "id": "E5pqAX10cLgw"
      },
      "outputs": [],
      "source": [
        "archivo_pedidos = \"data/CantidadPedida.xlsx\"\n",
        "\n",
        "df = pd.read_excel(archivo_pedidos)\n",
        "\n",
        "registros = []\n",
        "for _, row in df.iterrows():\n",
        "    tipo = row['Tipo']\n",
        "    fecha_venta = row['Fecha'].strftime('%Y-%m-%d')\n",
        "    articulo = row['Articulo']\n",
        "    cantidad = row['Cantidad']\n",
        "    precio = row['Precio']\n",
        "    importe = row['Importe']\n",
        "    registros.append(( tipo, fecha_venta, articulo, cantidad, precio, importe))\n",
        "\n",
        "consulta = f\"INSERT INTO {tabla_pedidos} (Tipo, Fecha, Articulo, Cantidad, Precio, Importe) \" \\\n",
        "           \"VALUES (%s, %s, %s, %s, %s, %s)\"\n",
        "\n",
        "tamano_lote = 1000\n",
        "for i in range(0, len(registros), tamano_lote):\n",
        "    lote_registros = registros[i:i + tamano_lote]\n",
        "    cursor = conexion.cursor()\n",
        "    cursor.executemany(consulta, lote_registros)\n",
        "    conexion.commit()"
      ]
    },
    {
      "cell_type": "markdown",
      "metadata": {},
      "source": [
        "-----------"
      ]
    }
  ],
  "metadata": {
    "colab": {
      "provenance": []
    },
    "kernelspec": {
      "display_name": "Python 3",
      "name": "python3"
    },
    "language_info": {
      "codemirror_mode": {
        "name": "ipython",
        "version": 3
      },
      "file_extension": ".py",
      "mimetype": "text/x-python",
      "name": "python",
      "nbconvert_exporter": "python",
      "pygments_lexer": "ipython3",
      "version": "3.10.13"
    }
  },
  "nbformat": 4,
  "nbformat_minor": 0
}
